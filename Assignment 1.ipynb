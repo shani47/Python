{
 "cells": [
  {
   "cell_type": "code",
   "execution_count": 11,
   "metadata": {},
   "outputs": [
    {
     "name": "stdout",
     "output_type": "stream",
     "text": [
      "Twinkle, twinkle, little star,\n",
      "        How I wonder what you are!\n",
      "               Up above the world so high,\n",
      "               Like a diamond in the sky.\n",
      "Twinkle, twinkle, little star,\n",
      "        How I wonder what you are!\n"
     ]
    }
   ],
   "source": [
    "a = 'Twinkle, twinkle, little star,'\n",
    "d = 'How I wonder what you are!'\n",
    "e = 'Up above the world so high,'\n",
    "f = 'Like a diamond in the sky.'\n",
    "print(a)\n",
    "print(\"        \" + d)\n",
    "print(\"               \" + e)\n",
    "print(\"               \" + f)\n",
    "print(a)\n",
    "print(\"        \" + d)"
   ]
  },
  {
   "cell_type": "code",
   "execution_count": 18,
   "metadata": {},
   "outputs": [
    {
     "name": "stdout",
     "output_type": "stream",
     "text": [
      "2019-11-02 15:39:59.037740\n"
     ]
    }
   ],
   "source": [
    "from datetime import datetime\n",
    "now = datetime.now()\n",
    "print(now)"
   ]
  },
  {
   "cell_type": "code",
   "execution_count": 19,
   "metadata": {},
   "outputs": [
    {
     "name": "stdout",
     "output_type": "stream",
     "text": [
      "input the radius of the circle1.1\n",
      "the area of the circle with radius1.1 is:3.8013271108436504\n"
     ]
    }
   ],
   "source": [
    "from math import pi\n",
    "r = float(input(\"input the radius of the circle\"))\n",
    "print(\"the area of the circle with radius\" + str(r) + \" is:\" + str(pi * r**2))"
   ]
  },
  {
   "cell_type": "code",
   "execution_count": 22,
   "metadata": {},
   "outputs": [
    {
     "name": "stdout",
     "output_type": "stream",
     "text": [
      "input the radius of the circle:5\n",
      "area of the circle is 78.5\n"
     ]
    }
   ],
   "source": [
    "pi = 3.14\n",
    "r = float(input(\"input the radius of the circle:\"))\n",
    "area = pi*r*r\n",
    "print(\"area of the circle is\", area)"
   ]
  },
  {
   "cell_type": "code",
   "execution_count": 26,
   "metadata": {},
   "outputs": [
    {
     "name": "stdout",
     "output_type": "stream",
     "text": [
      "khan Shahid\n"
     ]
    }
   ],
   "source": [
    "a = \"Shahid\"\n",
    "b = \"khan\"\n",
    "print(b + \" \" + a)"
   ]
  },
  {
   "cell_type": "code",
   "execution_count": 28,
   "metadata": {},
   "outputs": [
    {
     "name": "stdout",
     "output_type": "stream",
     "text": [
      "Input your first name:Shahid\n",
      "Input your last name:Khan\n",
      "Khan Shahid\n"
     ]
    }
   ],
   "source": [
    "fname = input(\"Input your first name:\")\n",
    "lname = input(\"Input your last name:\")\n",
    "print(lname + \" \" + fname)"
   ]
  },
  {
   "cell_type": "code",
   "execution_count": 29,
   "metadata": {},
   "outputs": [
    {
     "name": "stdout",
     "output_type": "stream",
     "text": [
      "64.9\n"
     ]
    }
   ],
   "source": [
    "num1 = 58.5\n",
    "num2 = 6.4\n",
    "sum = num1 + num2\n",
    "print(sum)"
   ]
  },
  {
   "cell_type": "code",
   "execution_count": null,
   "metadata": {},
   "outputs": [],
   "source": []
  }
 ],
 "metadata": {
  "kernelspec": {
   "display_name": "Python 3",
   "language": "python",
   "name": "python3"
  },
  "language_info": {
   "codemirror_mode": {
    "name": "ipython",
    "version": 3
   },
   "file_extension": ".py",
   "mimetype": "text/x-python",
   "name": "python",
   "nbconvert_exporter": "python",
   "pygments_lexer": "ipython3",
   "version": "3.7.4"
  }
 },
 "nbformat": 4,
 "nbformat_minor": 2
}
